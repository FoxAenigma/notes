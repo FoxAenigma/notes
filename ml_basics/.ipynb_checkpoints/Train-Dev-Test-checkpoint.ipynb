{
 "cells": [
  {
   "cell_type": "markdown",
   "id": "35c962f4-c9c7-4563-9a99-2964aa58ba01",
   "metadata": {
    "tags": []
   },
   "source": [
    "# Uses of data\n",
    "\n",
    "When making some model to any aplication you will be spliting the dataset into three groups with different usefulness.\n",
    "\n",
    "1. Train set\n",
    "2. Development set\n",
    "3. Test set\n",
    "\n",
    "<div align=\"center\">\n",
    "<img src=\"https://miro.medium.com/max/1400/1*AE17O-39mBq3PFBalay6-w.png\" width=\"800\"/>\n",
    "</div>"
   ]
  },
  {
   "cell_type": "markdown",
   "id": "b95b9e57-81f5-4ba5-88b3-53988ea8209f",
   "metadata": {},
   "source": [
    "## The train set\n",
    "Its the bigger set and it will be more recurrent one. It will be used to feed the IA model, whatever could be. The shape is usually $60\\%$ when the whole set its small, but the percent should grow for bigger datasets.\n",
    "\n",
    "## The dev set\n",
    "Like its name, this set is used to optimize models in development phase, its normal to size the set about $20\\%$ of the data. When performance of a model its compared between train set and dev set bias level and variance level can be measured, these are important properties to fix models.\n",
    "\n",
    "## The test set\n",
    "->description"
   ]
  },
  {
   "cell_type": "markdown",
   "id": "96d01260-31b2-47f2-a79e-ad5c900405ea",
   "metadata": {},
   "source": [
    "# Bias and variance\n",
    "->table about issues: 4 cases"
   ]
  },
  {
   "cell_type": "code",
   "execution_count": null,
   "id": "7d772883-f312-4962-b97d-668244128569",
   "metadata": {},
   "outputs": [],
   "source": []
  },
  {
   "cell_type": "code",
   "execution_count": null,
   "id": "612b9754-bf70-42c1-9543-2d34123a7f7b",
   "metadata": {},
   "outputs": [],
   "source": []
  }
 ],
 "metadata": {
  "kernelspec": {
   "display_name": "Python 3 (ipykernel)",
   "language": "python",
   "name": "python3"
  },
  "language_info": {
   "codemirror_mode": {
    "name": "ipython",
    "version": 3
   },
   "file_extension": ".py",
   "mimetype": "text/x-python",
   "name": "python",
   "nbconvert_exporter": "python",
   "pygments_lexer": "ipython3",
   "version": "3.10.5"
  }
 },
 "nbformat": 4,
 "nbformat_minor": 5
}
