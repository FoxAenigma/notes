{
  "nbformat": 4,
  "nbformat_minor": 0,
  "metadata": {
    "colab": {
      "name": "NN-welchlab.ipynb",
      "provenance": []
    },
    "kernelspec": {
      "name": "python3",
      "display_name": "Python 3"
    },
    "language_info": {
      "name": "python"
    }
  },
  "cells": [
    {
      "cell_type": "code",
      "source": [
        "import numpy as np"
      ],
      "metadata": {
        "id": "oKRLpCIrTjc5"
      },
      "execution_count": null,
      "outputs": []
    },
    {
      "cell_type": "markdown",
      "source": [
        "#Neuronal Networks (Welch Lab)"
      ],
      "metadata": {
        "id": "1AiABd-lMb1L"
      }
    },
    {
      "cell_type": "markdown",
      "source": [
        "##Part 1: Data and Architecture"
      ],
      "metadata": {
        "id": "iUKp06SKMrgJ"
      }
    },
    {
      "cell_type": "markdown",
      "source": [
        "We can predict some output $Y$ from a collection of data $X$ in matrix structure. For the example: $X$ is the matrix of hours sleeping and hours studying where $V_n$ is the colunm vector of inputs vars to the model.\n",
        "\n",
        "$$X=M\\{V_1,V_2,...,V_n\\}$$\n",
        "\n",
        "Another form to represent it: if $n$ is the number of samples to make the regression and $m$ is the amount of input variables (hours sleeping, hours studying).\n",
        "\n",
        "$$X=M_{n\\times m}$$\n",
        "\n",
        "The $Y$ is a colunm matrix which map every entry of X (row) and its the output for the respective input.\n",
        "\n",
        "$$Y=M_{n\\times 1}$$"
      ],
      "metadata": {
        "id": "WMk6ZTgkM3N4"
      }
    },
    {
      "cell_type": "markdown",
      "source": [
        "Some personal notation a will use to represent the transformation as a function where $f$ is the real system:\n",
        "\n",
        "$$f(X)\\rightarrow Y$$\n",
        "\n",
        "The regression case will represented as:\n",
        "\n",
        "$$NN(X) → \\hat{Y}$$"
      ],
      "metadata": {
        "id": "KbRpHTKXSGDN"
      }
    },
    {
      "cell_type": "code",
      "source": [
        "X = np.array(([3,5], [5,1], [10,2]), dtype=float)\n",
        "Y = np.array(([75], [82], [93]), dtype=float)"
      ],
      "metadata": {
        "id": "eXc01ICUMcIb"
      },
      "execution_count": null,
      "outputs": []
    },
    {
      "cell_type": "code",
      "source": [
        "X"
      ],
      "metadata": {
        "colab": {
          "base_uri": "https://localhost:8080/"
        },
        "id": "ydbuwwVtUOfK",
        "outputId": "fa21bfab-3263-4d84-f804-f5203c8392ae"
      },
      "execution_count": null,
      "outputs": [
        {
          "output_type": "execute_result",
          "data": {
            "text/plain": [
              "array([[ 3.,  5.],\n",
              "       [ 5.,  1.],\n",
              "       [10.,  2.]])"
            ]
          },
          "metadata": {},
          "execution_count": 4
        }
      ]
    },
    {
      "cell_type": "code",
      "source": [
        "Y"
      ],
      "metadata": {
        "colab": {
          "base_uri": "https://localhost:8080/"
        },
        "id": "LAydW30VUOWL",
        "outputId": "9f96f1b3-d313-4f31-c1f6-ad5362a26ac7"
      },
      "execution_count": null,
      "outputs": [
        {
          "output_type": "execute_result",
          "data": {
            "text/plain": [
              "array([[75.],\n",
              "       [82.],\n",
              "       [93.]])"
            ]
          },
          "metadata": {},
          "execution_count": 5
        }
      ]
    },
    {
      "cell_type": "markdown",
      "source": [
        "The first need is take data and normalized it to [0,1] range, minimal values will perform operations."
      ],
      "metadata": {
        "id": "4ySyd5IWURoi"
      }
    },
    {
      "cell_type": "code",
      "source": [
        "X = np.divide(X, np.amax(X, axis=0))\n",
        "Y = np.divide(Y, 100)"
      ],
      "metadata": {
        "id": "aPxqAFHUUzsi"
      },
      "execution_count": null,
      "outputs": []
    },
    {
      "cell_type": "code",
      "source": [
        "X"
      ],
      "metadata": {
        "colab": {
          "base_uri": "https://localhost:8080/"
        },
        "id": "QE9kJvljVM5l",
        "outputId": "3fac4bc3-5d00-4572-f5b4-b074c2a6174c"
      },
      "execution_count": null,
      "outputs": [
        {
          "output_type": "execute_result",
          "data": {
            "text/plain": [
              "array([[0.3, 1. ],\n",
              "       [0.5, 0.2],\n",
              "       [1. , 0.4]])"
            ]
          },
          "metadata": {},
          "execution_count": 8
        }
      ]
    },
    {
      "cell_type": "code",
      "source": [
        "Y"
      ],
      "metadata": {
        "colab": {
          "base_uri": "https://localhost:8080/"
        },
        "id": "BVQijBrSVOnb",
        "outputId": "3d3af22b-7563-4e83-b27e-3ffdb78a1755"
      },
      "execution_count": null,
      "outputs": [
        {
          "output_type": "execute_result",
          "data": {
            "text/plain": [
              "array([[0.75],\n",
              "       [0.82],\n",
              "       [0.93]])"
            ]
          },
          "metadata": {},
          "execution_count": 9
        }
      ]
    }
  ]
}