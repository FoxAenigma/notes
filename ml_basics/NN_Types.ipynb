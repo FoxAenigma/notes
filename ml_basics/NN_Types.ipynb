{
  "nbformat": 4,
  "nbformat_minor": 0,
  "metadata": {
    "colab": {
      "name": "NN_Types.ipynb",
      "provenance": []
    },
    "kernelspec": {
      "name": "python3",
      "display_name": "Python 3"
    },
    "language_info": {
      "name": "python"
    }
  },
  "cells": [
    {
      "cell_type": "markdown",
      "source": [
        "#Neuronal Network Types"
      ],
      "metadata": {
        "id": "VDiOXjI0i1oU"
      }
    },
    {
      "cell_type": "markdown",
      "source": [
        "Net types:\n",
        "[Extension](https://www.asimovinstitute.org/neural-network-zoo/)\n",
        "![networkZoo](https://www.asimovinstitute.org/wp-content/uploads/2016/09/networkZooPoster.png)"
      ],
      "metadata": {
        "id": "1G2Ne_Jsivfv"
      }
    }
  ]
}