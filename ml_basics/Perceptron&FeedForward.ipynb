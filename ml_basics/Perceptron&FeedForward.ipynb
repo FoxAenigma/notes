{
  "nbformat": 4,
  "nbformat_minor": 0,
  "metadata": {
    "colab": {
      "name": "Perceptron&FeedForward.ipynb",
      "provenance": []
    },
    "kernelspec": {
      "name": "python3",
      "display_name": "Python 3"
    },
    "language_info": {
      "name": "python"
    }
  },
  "cells": [
    {
      "cell_type": "markdown",
      "source": [
        "#Net types and propagation"
      ],
      "metadata": {
        "id": "Yd6u0sNr0pfp"
      }
    },
    {
      "cell_type": "code",
      "execution_count": null,
      "metadata": {
        "id": "iyfaHVvC-Ol3"
      },
      "outputs": [],
      "source": [
        "import numpy as np\n",
        "import matplotlib.pyplot as plt"
      ]
    },
    {
      "cell_type": "markdown",
      "source": [
        "The notation to indicate the whole train data collection vars is through the index $i$.\n",
        "\n",
        "$$X_{train}=\\{X^{(1)},X^{(2)},...,X^{(n)}\\}$$\n",
        "\n",
        "$$a=\\{a^{(1)},a^{(2)},...,a^{(n)}\\}$$\n",
        "\n",
        "For example:\n",
        "\n",
        "$$X^{(1)}→FF(X^{(1)})→a^{[2](1)}=\\hat{y}^{(1)}$$\n"
      ],
      "metadata": {
        "id": "GffPfbCS0Y7I"
      }
    },
    {
      "cell_type": "markdown",
      "source": [
        "##Forward propagation\n",
        "One layer system (P): $X→L_{1\\times 1}→\\hat{y}$ \n",
        "$$z=w^Tx+b$$\n",
        "$$a=\\sigma (z)$$\n",
        "$$L(a,y)$$\n",
        "$$\\hat{y}=a$$\n",
        "\n",
        "Two layer system (FF): $X^{(i)}→L_{n\\times 1}→L_{1\\times 1}→\\hat{y}^{(i)}$\n",
        "$$z^{[1]}=W^{[1]}X+b^{[1]}$$\n",
        "$$A^{[1]}=\\sigma (z^{[1]})$$\n",
        "$$z^{[2]}=W^{[2]}A^{[1]}+b^{[2]}$$\n",
        "$$a^{[2]}=\\sigma (z^{[2]})$$\n",
        "$$\\hat{y}=A^{[2]}$$"
      ],
      "metadata": {
        "id": "r1qcJv2Z0OOw"
      }
    },
    {
      "cell_type": "markdown",
      "source": [
        "##Backward propagation\n",
        "Two layer system(FF): $X^{(i)}←L_{n\\times 1}\\leftarrow L_{1\\times 1}\\leftarrow \\hat{y}^{(i)}$\n",
        "$$dz^{[1]}=A^{[2]}-Y$$ \n",
        "$$dW^{[2]}=\\frac{1}{m}dz^{[2]}A^{[1]^T}$$\n",
        "$$db^{[2]}=\\frac{1}{m}\\sum_jdz^{[2]}$$\n",
        "$$dz^{[1]}=W^{[2]^T}dz^{[2]}.*g^{[1]}Z^{[1]}$$\n",
        "$$dW^{[1]}=\\frac{1}{m}dz^{[1]}X^T$$\n",
        "$$db^{[1]}=\\frac{1}{m}\\sum_jdz^{[1]}$$"
      ],
      "metadata": {
        "id": "y5oY6Y8o1JPQ"
      }
    },
    {
      "cell_type": "markdown",
      "source": [
        "#Activation Functions [g(z)]"
      ],
      "metadata": {
        "id": "84G3lxd4ZcIh"
      }
    },
    {
      "cell_type": "markdown",
      "source": [
        "##Sigmoid\n",
        "$$\\sigma (x) = \\frac{1}{1+e^{-x}}$$"
      ],
      "metadata": {
        "id": "LXfNbicRZg7N"
      }
    },
    {
      "cell_type": "code",
      "source": [
        "def sigmoid(x):\n",
        "  return np.divide(1,1+np.exp(-x))"
      ],
      "metadata": {
        "id": "LfH7Lrw9-YDH"
      },
      "execution_count": null,
      "outputs": []
    },
    {
      "cell_type": "code",
      "source": [
        "z = np.arange(-6, 6, 0.2, dtype=float)\n",
        "a = sigmoid(z)\n",
        "\n",
        "plt.plot(z,a)\n",
        "plt.grid()"
      ],
      "metadata": {
        "colab": {
          "base_uri": "https://localhost:8080/",
          "height": 265
        },
        "id": "e6PufltIaTpo",
        "outputId": "6e17f0b6-5d88-48cc-91b8-9035228b5713"
      },
      "execution_count": null,
      "outputs": [
        {
          "output_type": "display_data",
          "data": {
            "text/plain": [
              "<Figure size 432x288 with 1 Axes>"
            ],
            "image/png": "[encoded data removed]"
          },
          "metadata": {
            "needs_background": "light"
          }
        }
      ]
    },
    {
      "cell_type": "markdown",
      "source": [
        "##Hyperbolic tangent\n",
        "$$tanh(x)=\\frac{e^x-e^{-x}}{e^x+e^{-x}}$$"
      ],
      "metadata": {
        "id": "Fic5pQ0hba4t"
      }
    },
    {
      "cell_type": "code",
      "source": [
        "def tanh(x):\n",
        "  return np.tanh(x)"
      ],
      "metadata": {
        "id": "zPoXn3D9a44p"
      },
      "execution_count": null,
      "outputs": []
    },
    {
      "cell_type": "code",
      "source": [
        "z = np.arange(-6, 6, 0.2, dtype=float)\n",
        "a = tanh(z)\n",
        "\n",
        "plt.plot(z,a)\n",
        "plt.grid()"
      ],
      "metadata": {
        "colab": {
          "base_uri": "https://localhost:8080/",
          "height": 265
        },
        "id": "La72xVYecXJQ",
        "outputId": "45772f30-4c1b-4ba1-b7c6-5e28c2ea411e"
      },
      "execution_count": null,
      "outputs": [
        {
          "output_type": "display_data",
          "data": {
            "text/plain": [
              "<Figure size 432x288 with 1 Axes>"
            ],
            "image/png": "[encoded data removed]"
          },
          "metadata": {
            "needs_background": "light"
          }
        }
      ]
    },
    {
      "cell_type": "markdown",
      "source": [
        "##ReLU\n",
        "$$ReLU(x)=x[u(x)]$$"
      ],
      "metadata": {
        "id": "8-IivH8hdy5G"
      }
    },
    {
      "cell_type": "code",
      "source": [
        "def ReLU(x):\n",
        "  vFUNC = np.vectorize(lambda n: n if n>0 else 0, otypes=[float])\n",
        "  return vFUNC(xTranscripción)"
      ],
      "metadata": {
        "id": "tiicWC6Pcd9F"
      },
      "execution_count": null,
      "outputs": []
    },
    {
      "cell_type": "code",
      "source": [
        "z = np.arange(-6, 6, 0.2, dtype=float)\n",
        "a = ReLU(z)\n",
        "\n",
        "plt.plot(z,a)\n",
        "plt.grid()"
      ],
      "metadata": {
        "colab": {
          "base_uri": "https://localhost:8080/",
          "height": 266
        },
        "id": "5uxbVxyZeXkh",
        "outputId": "3eba70e1-3a82-4cf9-93ce-5f79e59ec854"
      },
      "execution_count": null,
      "outputs": [
        {
          "output_type": "display_data",
          "data": {
            "text/plain": [
              "<Figure size 432x288 with 1 Axes>"
            ],
            "image/png": "[encoded data removed]"
          },
          "metadata": {
            "needs_background": "light"
          }
        }
      ]
    },
    {
      "cell_type": "markdown",
      "source": [
        "#Inizialization\n",
        "\n",
        "Symetrical initialization for weights is not going to arrive an optimal $W$ matrix by training. The correct form is random init:\n",
        "\n",
        "$$X→L_{n×1}→L_{1×1}→\\hat{y}$$\n",
        "\n",
        "$$W^{[n]}=rand(dim(L^{[n]},L^{[n-1]}))$$\n",
        "$$b^{[n]}=rand(dim(L^{[n]},1))$$\n",
        "$$Where: ~ L^{[0]}=X$$\n",
        "\n",
        "```python\n",
        "  W_1 = np.random.randn(len(L_1),n)) * 0.01\n",
        "  b_1 = np.zeros(len(L_1),1)\n",
        "  W_2 = np.random.randn(len(L_2),len(L_1)) * 0.01\n",
        "  b_2 = 0\n",
        "```"
      ],
      "metadata": {
        "id": "w5sNBGp9DlLa"
      }
    },
    {
      "cell_type": "code",
      "source": [
        ""
      ],
      "metadata": {
        "id": "UztVgDYrQAcL"
      },
      "execution_count": null,
      "outputs": []
    }
  ]
}