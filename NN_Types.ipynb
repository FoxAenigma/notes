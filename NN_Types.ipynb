{
  "nbformat": 4,
  "nbformat_minor": 0,
  "metadata": {
    "colab": {
      "name": "NN_Types.ipynb",
      "provenance": [],
      "authorship_tag": "ABX9TyMCJokuqEo16xqYdjGfycDQ",
      "include_colab_link": true
    },
    "kernelspec": {
      "name": "python3",
      "display_name": "Python 3"
    },
    "language_info": {
      "name": "python"
    }
  },
  "cells": [
    {
      "cell_type": "markdown",
      "metadata": {
        "id": "view-in-github",
        "colab_type": "text"
      },
      "source": [
        "<a href=\"https://colab.research.google.com/github/FoxyLuxe/notes/blob/main/NN_Types.ipynb\" target=\"_parent\"><img src=\"https://colab.research.google.com/assets/colab-badge.svg\" alt=\"Open In Colab\"/></a>"
      ]
    },
    {
      "cell_type": "markdown",
      "source": [
        "#Neuronal Network Types"
      ],
      "metadata": {
        "id": "VDiOXjI0i1oU"
      }
    },
    {
      "cell_type": "markdown",
      "source": [
        "Net types:\n",
        "[Extension](https://www.asimovinstitute.org/neural-network-zoo/)\n",
        "![networkZoo](https://www.asimovinstitute.org/wp-content/uploads/2016/09/networkZooPoster.png)"
      ],
      "metadata": {
        "id": "1G2Ne_Jsivfv"
      }
    }
  ]
}